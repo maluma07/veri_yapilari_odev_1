{
 "cells": [
  {
   "cell_type": "code",
   "execution_count": 9,
   "id": "3a334ce8-5ad7-4304-9b1c-b4e9a99819f4",
   "metadata": {},
   "outputs": [
    {
     "name": "stdout",
     "output_type": "stream",
     "text": [
      "<class 'int'>\n",
      "42 <class 'str'>\n",
      "42 <class 'int'>\n",
      "3.14 <class 'float'>\n",
      "3 <class 'int'>\n"
     ]
    }
   ],
   "source": [
    "#VERİ TİPLERİ DÖNÜŞÜMLERİ\n",
    "\n",
    "sayi = 42\n",
    "print(type(sayi))\n",
    "\n",
    "# sayıdan stringe dönüşüm\n",
    "sayi_str = str(sayi)\n",
    "print(sayi_str, type(sayi_str))\n",
    "\n",
    "# stringten sayıya dönüşüm (sayi_str önceden tanımlı olmalı)\n",
    "sayi_int = int(sayi_str)\n",
    "print(sayi_int, type(sayi_int))\n",
    "\n",
    "#Ondalıklı sayı\n",
    "ondalik = 3.14\n",
    "print(ondalik, type(ondalik))\n",
    "\n",
    "# Ondalıklıdan tam sayıya dönüşüm\n",
    "ondalik_int = int(ondalik)\n",
    "print(ondalik_int, type(ondalik_int))"
   ]
  },
  {
   "cell_type": "code",
   "execution_count": 14,
   "id": "24e5e746-2c71-4410-a1c0-80f82611e31c",
   "metadata": {},
   "outputs": [
    {
     "name": "stdout",
     "output_type": "stream",
     "text": [
      "Ali Ayşe'den küçük mü? True\n",
      "Ayşe Mehmet'ten büyük mü? False\n",
      "Ali ve Mehmet aynı yaşta mı? False\n",
      "Ali Mehmet'ten büyük VE Ayşe'den küçük mü? True\n",
      "Ali Mehmet'ten küçük VEYA Ayşe'den büyük mü? False\n"
     ]
    }
   ],
   "source": [
    "#YAŞ KARŞILAŞTIRMALARI\n",
    "\n",
    "#Yaş Değerleri\n",
    "ali = 25\n",
    "ayse = 30\n",
    "mehmet = 20\n",
    "\n",
    "#Karşılaştırmalar\n",
    "print(\"Ali Ayşe'den küçük mü?\", ali < ayse)\n",
    "print(\"Ayşe Mehmet'ten büyük mü?\", ayse < mehmet)\n",
    "print(\"Ali ve Mehmet aynı yaşta mı?\", ali == mehmet)\n",
    "\n",
    "#Mantıksal operatörlerle\n",
    "print(\"Ali Mehmet'ten büyük VE Ayşe'den küçük mü?\", (ali > mehmet) and (ali < ayse))\n",
    "print(\"Ali Mehmet'ten küçük VEYA Ayşe'den büyük mü?\", (ali < mehmet) or (ali > ayse))"
   ]
  },
  {
   "cell_type": "code",
   "execution_count": 16,
   "id": "7ed7e510-d740-4a07-87b3-286ca8cdca34",
   "metadata": {},
   "outputs": [
    {
     "name": "stdin",
     "output_type": "stream",
     "text": [
      "Birinci sayıyı giriniz:  63\n",
      "İkinci sayıyı giriniz:  7\n"
     ]
    },
    {
     "name": "stdout",
     "output_type": "stream",
     "text": [
      "Toplam: 70.0\n",
      "Çıkarma: 56.0\n",
      "Çarpma: 441.0\n",
      "Bölme: 9.0\n"
     ]
    }
   ],
   "source": [
    "#KULLANICIDAN İKİ SAYI ALMA\n",
    "\n",
    "x = float(input(\"Birinci sayıyı giriniz: \"))\n",
    "y = float(input(\"İkinci sayıyı giriniz: \"))\n",
    "\n",
    "print(\"Toplam:\", x + y)\n",
    "print(\"Çıkarma:\", x - y)\n",
    "print(\"Çarpma:\", x * y)\n",
    "print(\"Bölme:\", x / y)"
   ]
  },
  {
   "cell_type": "code",
   "execution_count": 18,
   "id": "17e24ace-44f3-49b0-9cd3-86fb949450a5",
   "metadata": {},
   "outputs": [
    {
     "name": "stdin",
     "output_type": "stream",
     "text": [
      "Adınız:  Alime\n",
      "Yaşınız:  26\n",
      "Şehriniz:  Antalya\n",
      "Mesleğiniz:  Gıda Mühendisi\n"
     ]
    },
    {
     "name": "stdout",
     "output_type": "stream",
     "text": [
      "Ad: Alime\n",
      "Yaş: 26\n",
      "Şehir: Antalya\n",
      "Meslek: Gıda Mühendisi\n"
     ]
    }
   ],
   "source": [
    "#KULLANICI BİLGİLERİ\n",
    "\n",
    "isim = input(\"Adınız: \")\n",
    "yas = input(\"Yaşınız: \")\n",
    "sehir = input(\"Şehriniz: \")\n",
    "meslek = input(\"Mesleğiniz: \")\n",
    "\n",
    "print(\"Ad:\", isim)\n",
    "print(\"Yaş:\", yas)\n",
    "print(\"Şehir:\", sehir)\n",
    "print(\"Meslek:\", meslek)\n"
   ]
  },
  {
   "cell_type": "code",
   "execution_count": 19,
   "id": "4f71557a-94de-480b-809e-0faaaa9a9d68",
   "metadata": {},
   "outputs": [
    {
     "name": "stdout",
     "output_type": "stream",
     "text": [
      "Hi-kod\n",
      "Veri\n",
      "Bilimi\n",
      "Atölyesi\n",
      "HI-KOD VERI BILIMI ATÖLYESI\n",
      "hi-kod veri bilimi atölyesi\n",
      "Çift Sayılar: 02468\n",
      "Tek Sayılar: 13579\n"
     ]
    }
   ],
   "source": [
    "#STRING İŞLEMLERİ\n",
    "\n",
    "#ifade tanımlama\n",
    "ifade = \"Hi-kod Veri Bilimi Atölyesi\"\n",
    "\n",
    "#Her bir kelimeyi seçme\n",
    "print(ifade[0:6]) # \"Hi-Kod\"\n",
    "print(ifade[7:11])  # \"Veri\"\n",
    "print(ifade[12:18]) # \"Bilimi\"\n",
    "print(ifade[19:27]) # \"Atölyesi\"\n",
    "\n",
    "#Büyük harf\n",
    "print(ifade.upper())\n",
    "\n",
    "#Küçük Harf\n",
    "print(ifade.lower())\n",
    "\n",
    "#Rakam dizisinden çift ve tek sayıları seçme\n",
    "\n",
    "rakamlar = \"0123456789\"\n",
    "ciftler = rakamlar[0::2]  # \"02468\"\n",
    "tekler = rakamlar[1::2]  # \"13579\"\n",
    "\n",
    "print(\"Çift Sayılar:\", ciftler)\n",
    "print(\"Tek Sayılar:\", tekler)"
   ]
  },
  {
   "cell_type": "code",
   "execution_count": null,
   "id": "5041a84a-e179-43e4-b232-2ce7c163de66",
   "metadata": {},
   "outputs": [],
   "source": []
  }
 ],
 "metadata": {
  "kernelspec": {
   "display_name": "Python [conda env:base] *",
   "language": "python",
   "name": "conda-base-py"
  },
  "language_info": {
   "codemirror_mode": {
    "name": "ipython",
    "version": 3
   },
   "file_extension": ".py",
   "mimetype": "text/x-python",
   "name": "python",
   "nbconvert_exporter": "python",
   "pygments_lexer": "ipython3",
   "version": "3.13.5"
  }
 },
 "nbformat": 4,
 "nbformat_minor": 5
}
